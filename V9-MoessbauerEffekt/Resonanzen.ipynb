{
 "cells": [
  {
   "cell_type": "code",
   "execution_count": 1,
   "metadata": {},
   "outputs": [],
   "source": [
    "# Importanweisungen\n",
    "import matplotlib.pyplot as plt\n",
    "import matplotlib\n",
    "import matplotlib.axes as axes\n",
    "from matplotlib import colors as mcolors\n",
    "import matplotlib.patches as mpatches\n",
    "import itertools\n",
    "import math\n",
    "import numpy as np\n",
    "import statistics as stat\n",
    "import scipy as sci\n",
    "from scipy import optimize\n",
    "import uncertainties as unc\n",
    "import uncertainties.unumpy as unp\n",
    "import uncertainties.umath as umath\n",
    "import pandas as pd\n",
    "\n",
    "unv=unp.nominal_values\n",
    "usd=unp.std_devs"
   ]
  },
  {
   "cell_type": "code",
   "execution_count": 2,
   "metadata": {},
   "outputs": [],
   "source": [
    "# Konstanten fuer einheitliche Darstellung\n",
    "\n",
    "sidescreen = (8, 6)\n",
    "fullscreen = (10,6)\n",
    "widescreen = (16,6)\n",
    "flatscreen = (10,4)\n",
    "fig_size = fullscreen\n",
    "fig_legendsize = 14\n",
    "fig_labelsize = 12\n",
    "matplotlib.rcParams.update({'font.size': fig_labelsize})\n",
    "\n",
    "colors = dict(mcolors.BASE_COLORS, **mcolors.CSS4_COLORS)"
   ]
  },
  {
   "cell_type": "code",
   "execution_count": 19,
   "metadata": {},
   "outputs": [],
   "source": [
    "# allgemeine Fitfunktionen\n",
    "\n",
    "def const(x,c):\n",
    "    return c\n",
    "\n",
    "def linear(x,m): # lineare Funktion mit f(x) = m * x \n",
    "    return(m*x)\n",
    "\n",
    "def gerade(x, m, b): # gerade mit = f(x) = m * x + b\n",
    "    return (m*x + b)\n",
    "\n",
    "def gerade0(x, m, x0):\n",
    "    return m * (x-x0)\n",
    "def cyclic(x, a, f, phi):\n",
    "    return a * np.sin(x * f - phi)\n",
    "\n",
    "def cyclicOff(x, a, f, phi, offset):\n",
    "    return cyclic(x, a, f, phi) + offset\n",
    "\n",
    "def gaussOff(x, x0, A, d, y0):\n",
    "    return A * unp.exp(-(x - x0)**2 / 2 / d**2) + y0\n",
    "\n",
    "def gauss(x, A, x0, d):\n",
    "    return A * unp.exp(-(x-x0)**2 / 2 / d**2)\n",
    "\n",
    "def exponential(x, c, y0):\n",
    "    return np.exp(c * x) * y0\n",
    "\n",
    "# fittet ein dataset mit gegebenen x und y werten, eine funktion und ggf. anfangswerten und y-Fehler\n",
    "# gibt die passenden parameter der funktion, sowie dessen unsicherheiten zurueck\n",
    "#\n",
    "# https://stackoverflow.com/questions/14581358/getting-standard-errors-on-fitted-parameters-using-the-optimize-leastsq-method-i#\n",
    "# Updated on 4/6/2016\n",
    "# User: https://stackoverflow.com/users/1476240/pedro-m-duarte\n",
    "def fit_curvefit(datax, datay, function, p0=None, yerr=None, **kwargs):\n",
    "    pfit, pcov = \\\n",
    "         optimize.curve_fit(function,datax,datay,p0=p0,\\\n",
    "                            sigma=yerr, epsfcn=0.0001, **kwargs)\n",
    "    error = [] \n",
    "    for i in range(len(pfit)):\n",
    "        try:\n",
    "          error.append(np.absolute(pcov[i][i])**0.5)\n",
    "        except:\n",
    "          error.append( 0.00 )\n",
    "    pfit_curvefit = pfit\n",
    "    perr_curvefit = np.array(error)\n",
    "    return unp.uarray(pfit_curvefit, perr_curvefit)\n",
    "\n",
    "# usage zB:\n",
    "# p = fit_curvefit(unv(xdata), unv(ydata), gerade, yerr = usd(ydata), p0 = [1, 0])\n",
    "# fuer eine gerade mit anfangswerten m = 1, b = 0"
   ]
  },
  {
   "cell_type": "code",
   "execution_count": 4,
   "metadata": {},
   "outputs": [],
   "source": [
    "# gibt Daten fuer LaTeX bereitgestellt aus\n",
    "\n",
    "def latex_printValue(val, file):\n",
    "    if hasattr(val, \"__iter__\"):\n",
    "        i = 1\n",
    "        for v in val:\n",
    "            latex_printValue(v, file+\"_\"+str(i))\n",
    "            i += 1\n",
    "    else:\n",
    "        f = open('data/%s.txt' % file, 'w')\n",
    "        f.write(str(val).replace('/', ''))\n",
    "                \n",
    "def latex_printSI(val, unit, file):\n",
    "    if hasattr(val, \"__iter__\"):\n",
    "        i = 1\n",
    "        for v in val:\n",
    "            latex_printSI(v, unit, file+\"_\"+str(i))\n",
    "            i += 1\n",
    "    else:\n",
    "        latex_printSIone(val, unit, file)\n",
    "\n",
    "def latex_printSIone(val, unit, file):\n",
    "    f = open('data/SI%s.txt' % file, 'w')\n",
    "    f.write(\"\\\\SI{%s}{%s}\" % (str(val).replace('/', '').replace('(', '').replace(')', ''), unit))\n",
    "    \n",
    "def print_latex(df):\n",
    "    out=\"\\\\begin{tabular}{\" + \" | \".join([\"r\"] * len(df.columns)) + \"}\\n\"\n",
    "    out=out+\" & \".join(df.keys())+\"\\\\\\\\ \\\\hline \\n\"\n",
    "    for i, row in df.iterrows():\n",
    "        out=out+\" & \".join([\"$\"+str(x)+\"$\" for x in row.values]) + \" \\\\\\\\\\n\"\n",
    "    out=out+\"\\\\end{tabular}\"\n",
    "    out=out.replace(\"+/-\",\"\\\\pm\").replace(\".\",\",\").replace(\"$$\",\"$\")\n",
    "    return out"
   ]
  },
  {
   "cell_type": "code",
   "execution_count": 5,
   "metadata": {},
   "outputs": [],
   "source": [
    "# weitere Werte, Konstanten\n",
    "# Werte von https://physics.nist.gov/cuu/Constants/index.html[0]\n",
    "\n",
    "c = 299792458 # m/s\n",
    "k_B = unc.ufloat_fromstr(\"1.38064852(79)e-23\") # J K-1 [0]\n",
    "h = unc.ufloat_fromstr(\"4.135667662(25)e-15\") # eV s [0]\n",
    "r_e = unc.ufloat_fromstr(\"2.8179403227(19)e-15\") # m [0]\n",
    "R = unc.ufloat_fromstr(\"8.3144598(48)\") # J mol-1 K-1 [0]\n",
    "K = 273.15 # kelvin \n",
    "eps_0 = 8.854187817e-12 # F m-1 = s4 A2 m-3 kg-1\n",
    "F = 96485.33289 # Faraday konstante; coulomb per mol\n",
    "Av = 6.02214076e23 # Avogadro-Konstante; n per 1 mol\n",
    "g = 9.81 # m/s^2\n",
    "rad = 360 / 2 / math.pi\n",
    "grad = 1/rad\n",
    "terra = 1e12\n",
    "giga = 1e9\n",
    "mega = 1e6\n",
    "kilo = 1e3\n",
    "dezi = 0.1\n",
    "centi = 0.01\n",
    "milli = 1e-3\n",
    "micro = 1e-6\n",
    "nano = 1e-9\n",
    "pico = 1e-12\n",
    "femto = 1e-15"
   ]
  },
  {
   "cell_type": "code",
   "execution_count": 8,
   "metadata": {
    "scrolled": false
   },
   "outputs": [],
   "source": [
    "# import der messwerte\n",
    "\n",
    "data = np.loadtxt(\"raw/messungA.txt\", unpack=True, skiprows=1)"
   ]
  },
  {
   "cell_type": "code",
   "execution_count": 13,
   "metadata": {},
   "outputs": [],
   "source": [
    "styles = [\"-\", \"-.\", \"--\", \":\"]*10\n",
    "\n",
    "xstart = 5.9\n",
    "xend = 6"
   ]
  },
  {
   "cell_type": "code",
   "execution_count": 20,
   "metadata": {},
   "outputs": [
    {
     "ename": "TypeError",
     "evalue": "Cannot cast array data from dtype('O') to dtype('float64') according to the rule 'safe'",
     "output_type": "error",
     "traceback": [
      "\u001b[0;31m---------------------------------------------------------------------------\u001b[0m",
      "\u001b[0;31mTypeError\u001b[0m                                 Traceback (most recent call last)",
      "\u001b[0;31mTypeError\u001b[0m: Cannot cast array data from dtype('O') to dtype('float64') according to the rule 'safe'"
     ]
    },
    {
     "ename": "error",
     "evalue": "Result from function call is not a proper array of floats.",
     "output_type": "error",
     "traceback": [
      "\u001b[0;31m---------------------------------------------------------------------------\u001b[0m",
      "\u001b[0;31merror\u001b[0m                                     Traceback (most recent call last)",
      "\u001b[0;32m<ipython-input-20-e8de7fc48256>\u001b[0m in \u001b[0;36m<module>\u001b[0;34m\u001b[0m\n\u001b[1;32m      4\u001b[0m \u001b[0;34m\u001b[0m\u001b[0m\n\u001b[1;32m      5\u001b[0m \u001b[0mx2\u001b[0m\u001b[0;34m,\u001b[0m \u001b[0my2\u001b[0m \u001b[0;34m=\u001b[0m \u001b[0mx\u001b[0m\u001b[0;34m[\u001b[0m\u001b[0;34m:\u001b[0m\u001b[0mlen\u001b[0m\u001b[0;34m(\u001b[0m\u001b[0mx\u001b[0m\u001b[0;34m)\u001b[0m\u001b[0;34m//\u001b[0m\u001b[0;36m2\u001b[0m\u001b[0;34m]\u001b[0m\u001b[0;34m,\u001b[0m \u001b[0my\u001b[0m\u001b[0;34m[\u001b[0m\u001b[0;34m:\u001b[0m\u001b[0mlen\u001b[0m\u001b[0;34m(\u001b[0m\u001b[0my\u001b[0m\u001b[0;34m)\u001b[0m\u001b[0;34m//\u001b[0m\u001b[0;36m2\u001b[0m\u001b[0;34m]\u001b[0m\u001b[0;34m\u001b[0m\u001b[0;34m\u001b[0m\u001b[0m\n\u001b[0;32m----> 6\u001b[0;31m \u001b[0mp\u001b[0m \u001b[0;34m=\u001b[0m \u001b[0mfit_curvefit\u001b[0m\u001b[0;34m(\u001b[0m\u001b[0mx\u001b[0m\u001b[0;34m,\u001b[0m\u001b[0my\u001b[0m\u001b[0;34m,\u001b[0m\u001b[0mgaussOff\u001b[0m\u001b[0;34m)\u001b[0m\u001b[0;34m\u001b[0m\u001b[0;34m\u001b[0m\u001b[0m\n\u001b[0m\u001b[1;32m      7\u001b[0m \u001b[0mprint\u001b[0m\u001b[0;34m(\u001b[0m\u001b[0mp\u001b[0m\u001b[0;34m)\u001b[0m\u001b[0;34m\u001b[0m\u001b[0;34m\u001b[0m\u001b[0m\n\u001b[1;32m      8\u001b[0m \u001b[0;34m\u001b[0m\u001b[0m\n",
      "\u001b[0;32m<ipython-input-19-0e630847ef38>\u001b[0m in \u001b[0;36mfit_curvefit\u001b[0;34m(datax, datay, function, p0, yerr, **kwargs)\u001b[0m\n\u001b[1;32m     36\u001b[0m     \u001b[0mpfit\u001b[0m\u001b[0;34m,\u001b[0m \u001b[0mpcov\u001b[0m \u001b[0;34m=\u001b[0m\u001b[0;31m \u001b[0m\u001b[0;31m\\\u001b[0m\u001b[0;34m\u001b[0m\u001b[0;34m\u001b[0m\u001b[0m\n\u001b[1;32m     37\u001b[0m          optimize.curve_fit(function,datax,datay,p0=p0,\\\n\u001b[0;32m---> 38\u001b[0;31m                             sigma=yerr, epsfcn=0.0001, **kwargs)\n\u001b[0m\u001b[1;32m     39\u001b[0m     \u001b[0merror\u001b[0m \u001b[0;34m=\u001b[0m \u001b[0;34m[\u001b[0m\u001b[0;34m]\u001b[0m\u001b[0;34m\u001b[0m\u001b[0;34m\u001b[0m\u001b[0m\n\u001b[1;32m     40\u001b[0m     \u001b[0;32mfor\u001b[0m \u001b[0mi\u001b[0m \u001b[0;32min\u001b[0m \u001b[0mrange\u001b[0m\u001b[0;34m(\u001b[0m\u001b[0mlen\u001b[0m\u001b[0;34m(\u001b[0m\u001b[0mpfit\u001b[0m\u001b[0;34m)\u001b[0m\u001b[0;34m)\u001b[0m\u001b[0;34m:\u001b[0m\u001b[0;34m\u001b[0m\u001b[0;34m\u001b[0m\u001b[0m\n",
      "\u001b[0;32m~/.local/lib/python3.6/site-packages/scipy/optimize/minpack.py\u001b[0m in \u001b[0;36mcurve_fit\u001b[0;34m(f, xdata, ydata, p0, sigma, absolute_sigma, check_finite, bounds, method, jac, **kwargs)\u001b[0m\n\u001b[1;32m    750\u001b[0m         \u001b[0;31m# Remove full_output from kwargs, otherwise we're passing it in twice.\u001b[0m\u001b[0;34m\u001b[0m\u001b[0;34m\u001b[0m\u001b[0;34m\u001b[0m\u001b[0m\n\u001b[1;32m    751\u001b[0m         \u001b[0mreturn_full\u001b[0m \u001b[0;34m=\u001b[0m \u001b[0mkwargs\u001b[0m\u001b[0;34m.\u001b[0m\u001b[0mpop\u001b[0m\u001b[0;34m(\u001b[0m\u001b[0;34m'full_output'\u001b[0m\u001b[0;34m,\u001b[0m \u001b[0;32mFalse\u001b[0m\u001b[0;34m)\u001b[0m\u001b[0;34m\u001b[0m\u001b[0;34m\u001b[0m\u001b[0m\n\u001b[0;32m--> 752\u001b[0;31m         \u001b[0mres\u001b[0m \u001b[0;34m=\u001b[0m \u001b[0mleastsq\u001b[0m\u001b[0;34m(\u001b[0m\u001b[0mfunc\u001b[0m\u001b[0;34m,\u001b[0m \u001b[0mp0\u001b[0m\u001b[0;34m,\u001b[0m \u001b[0mDfun\u001b[0m\u001b[0;34m=\u001b[0m\u001b[0mjac\u001b[0m\u001b[0;34m,\u001b[0m \u001b[0mfull_output\u001b[0m\u001b[0;34m=\u001b[0m\u001b[0;36m1\u001b[0m\u001b[0;34m,\u001b[0m \u001b[0;34m**\u001b[0m\u001b[0mkwargs\u001b[0m\u001b[0;34m)\u001b[0m\u001b[0;34m\u001b[0m\u001b[0;34m\u001b[0m\u001b[0m\n\u001b[0m\u001b[1;32m    753\u001b[0m         \u001b[0mpopt\u001b[0m\u001b[0;34m,\u001b[0m \u001b[0mpcov\u001b[0m\u001b[0;34m,\u001b[0m \u001b[0minfodict\u001b[0m\u001b[0;34m,\u001b[0m \u001b[0merrmsg\u001b[0m\u001b[0;34m,\u001b[0m \u001b[0mier\u001b[0m \u001b[0;34m=\u001b[0m \u001b[0mres\u001b[0m\u001b[0;34m\u001b[0m\u001b[0;34m\u001b[0m\u001b[0m\n\u001b[1;32m    754\u001b[0m         \u001b[0mcost\u001b[0m \u001b[0;34m=\u001b[0m \u001b[0mnp\u001b[0m\u001b[0;34m.\u001b[0m\u001b[0msum\u001b[0m\u001b[0;34m(\u001b[0m\u001b[0minfodict\u001b[0m\u001b[0;34m[\u001b[0m\u001b[0;34m'fvec'\u001b[0m\u001b[0;34m]\u001b[0m \u001b[0;34m**\u001b[0m \u001b[0;36m2\u001b[0m\u001b[0;34m)\u001b[0m\u001b[0;34m\u001b[0m\u001b[0;34m\u001b[0m\u001b[0m\n",
      "\u001b[0;32m~/.local/lib/python3.6/site-packages/scipy/optimize/minpack.py\u001b[0m in \u001b[0;36mleastsq\u001b[0;34m(func, x0, args, Dfun, full_output, col_deriv, ftol, xtol, gtol, maxfev, epsfcn, factor, diag)\u001b[0m\n\u001b[1;32m    394\u001b[0m             \u001b[0mmaxfev\u001b[0m \u001b[0;34m=\u001b[0m \u001b[0;36m200\u001b[0m\u001b[0;34m*\u001b[0m\u001b[0;34m(\u001b[0m\u001b[0mn\u001b[0m \u001b[0;34m+\u001b[0m \u001b[0;36m1\u001b[0m\u001b[0;34m)\u001b[0m\u001b[0;34m\u001b[0m\u001b[0;34m\u001b[0m\u001b[0m\n\u001b[1;32m    395\u001b[0m         retval = _minpack._lmdif(func, x0, args, full_output, ftol, xtol,\n\u001b[0;32m--> 396\u001b[0;31m                                  gtol, maxfev, epsfcn, factor, diag)\n\u001b[0m\u001b[1;32m    397\u001b[0m     \u001b[0;32melse\u001b[0m\u001b[0;34m:\u001b[0m\u001b[0;34m\u001b[0m\u001b[0;34m\u001b[0m\u001b[0m\n\u001b[1;32m    398\u001b[0m         \u001b[0;32mif\u001b[0m \u001b[0mcol_deriv\u001b[0m\u001b[0;34m:\u001b[0m\u001b[0;34m\u001b[0m\u001b[0;34m\u001b[0m\u001b[0m\n",
      "\u001b[0;31merror\u001b[0m: Result from function call is not a proper array of floats."
     ]
    }
   ],
   "source": [
    "# Diagram: Dunkel\n",
    "\n",
    "x,y = data\n",
    "\n",
    "x2, y2 = x[:len(x)//2], y[:len(y)//2]\n",
    "p = fit_curvefit(x,y,gaussOff)\n",
    "print(p)\n",
    "\n",
    "xlim = np.linspace(0,255)\n",
    "ylim = gaussOff(xlim, *p)\n",
    "plt.errorbar(x,y)\n",
    "plt.plot(unv(xlim), unv(ylim))\n",
    "\n",
    "plt.grid()\n",
    "plt.xlabel(\"Frequenz $f$ [$GHz$]\")\n",
    "plt.ylabel(\"Spannung $U$ [$V$]\")\n",
    "#plt.xlim(xstart, xend)\n",
    "#plt.ylim(-0.05, 0.65)\n",
    "plt.legend(prop={'size':fig_legendsize})\n",
    "plt.tick_params(labelsize=fig_labelsize)\n",
    "#plt.xscale('log')\n",
    "#plt.yscale('log', nonposy='clip')\n",
    "plt.savefig(\"dat/test.pdf\")\n",
    "plt.show()"
   ]
  },
  {
   "cell_type": "code",
   "execution_count": 18,
   "metadata": {},
   "outputs": [
    {
     "data": {
      "image/png": "[encoded data removed]",
      "text/plain": [
       "<Figure size 720x288 with 1 Axes>"
      ]
     },
     "metadata": {
      "needs_background": "light"
     },
     "output_type": "display_data"
    }
   ],
   "source": [
    "# Diagram: Hell\n",
    "\n",
    "freq, spannung, lang = kopplerHell\n",
    "\n",
    "hell1 = (1, unc.ufloat(5.093, dFreq))\n",
    "hell2 = (9, unc.ufloat(5.95, dFreq))\n",
    "\n",
    "hell = (hell1[1] - hell2[1]) / (hell1[0] - hell2[0])\n",
    "hellC = 2 * lang * dunkel * giga\n",
    "hellE = (c/hellC)**2\n",
    "latex_printSIone(hell, \"\\\\giga\\\\hertz\", \"hellFrequenz\")\n",
    "latex_printSIone(hellC, \"\\\\meter\\\\per\\\\second\", \"hellC\")\n",
    "latex_printValue(hellE, \"hellE\")\n",
    "\n",
    "fig=plt.figure(figsize=flatscreen)\n",
    "ax = plt.gca()\n",
    "\n",
    "#plot counts and initial voltage\n",
    "# plt.errorbar(unv(voltage), unv(rate), usd(rate), label=\"Zählrohrcharakteristik\", capsize = 4, ls=\" \")\n",
    "plt.plot(unv(freq), unv(spannung), label=\"Helles Kabel\")\n",
    "plt.plot([unv(hell1[1]), unv(hell1[1])], [min(unv(spannung)),max(unv(spannung))], color=\"r\", ls=\":\", label=\"Resonanz %i: $%s GHz$\" % (hell1[0], hell1[1]))\n",
    "plt.plot([unv(hell2[1]), unv(hell2[1])], [min(unv(spannung)),max(unv(spannung))], color=\"r\", ls=\":\", label=\"Resonanz %i: $%s GHz$\" % (hell2[0], hell2[1]))\n",
    "\n",
    "plt.grid()\n",
    "plt.xlabel(\"Frequenz $f$ [$GHz$]\")\n",
    "plt.ylabel(\"Spannung $U$ [$V$]\")\n",
    "#plt.xlim(xstart, xend)\n",
    "plt.ylim(-0.05, 0.65)\n",
    "plt.legend(prop={\n",
    "    'size':fig_legendsize})\n",
    "plt.tick_params(labelsize=fig_labelsize)\n",
    "#plt.xscale('log')\n",
    "#plt.yscale('log', nonposy='clip')\n",
    "plt.savefig(\"data/kopplerHell.pdf\")\n",
    "plt.show()"
   ]
  },
  {
   "cell_type": "code",
   "execution_count": null,
   "metadata": {},
   "outputs": [],
   "source": []
  },
  {
   "cell_type": "code",
   "execution_count": null,
   "metadata": {},
   "outputs": [],
   "source": []
  }
 ],
 "metadata": {
  "kernelspec": {
   "display_name": "Python 3",
   "language": "python",
   "name": "python3"
  },
  "language_info": {
   "codemirror_mode": {
    "name": "ipython",
    "version": 3
   },
   "file_extension": ".py",
   "mimetype": "text/x-python",
   "name": "python",
   "nbconvert_exporter": "python",
   "pygments_lexer": "ipython3",
   "version": "3.6.8"
  }
 },
 "nbformat": 4,
 "nbformat_minor": 2
}
